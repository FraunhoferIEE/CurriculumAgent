{
 "cells": [
  {
   "cell_type": "markdown",
   "id": "fc66d1bb-0c5b-4bcb-901e-e323dcd5eddd",
   "metadata": {
    "pycharm": {
     "name": "#%% md\n"
    }
   },
   "source": [
    "# Example Script of the General Teacher\n",
    "\n",
    "This is an example script of the General Teacher. For the action search, one only has to execute the `general_teacher\n",
    " ()` method.  Note that this might take some time, depending on your resources"
   ]
  },
  {
   "cell_type": "code",
   "execution_count": null,
   "id": "0f16ce46",
   "metadata": {
    "pycharm": {
     "name": "#%%\n"
    }
   },
   "outputs": [],
   "source": [
    "import os\n",
    "import grid2op\n",
    "from pathlib import Path\n",
    "import logging\n",
    "from lightsim2grid import LightSimBackend\n",
    "\n",
    "example_path = os.getcwd()"
   ]
  },
  {
   "cell_type": "markdown",
   "id": "f3e2b6b3",
   "metadata": {
    "pycharm": {
     "name": "#%% md\n"
    }
   },
   "source": [
    "First, check whether the Grid2Op Environment can be loaded and executed"
   ]
  },
  {
   "cell_type": "code",
   "execution_count": null,
   "id": "9444080c-cf64-42d9-987e-26965ce4e5d2",
   "metadata": {},
   "outputs": [],
   "source": [
    "backend = LightSimBackend()\n",
    "env = grid2op.make(\"l2rpn_neurips_2020_track1_small\", backend=backend)\n",
    "obs = env.get_obs()"
   ]
  },
  {
   "cell_type": "code",
   "execution_count": null,
   "id": "10bc277b-783a-48cf-bc4b-a8f5b6ab956e",
   "metadata": {},
   "outputs": [],
   "source": [
    "from curriculumagent.teacher.teacher import general_teacher"
   ]
  },
  {
   "cell_type": "markdown",
   "id": "a4403615",
   "metadata": {},
   "source": [
    "After importing the module, we run the General Teacher Search. Again note, that this might take a while. If you have a\n",
    "limited amount of CPU power, you can reduce the number of jobs accordingly"
   ]
  },
  {
   "cell_type": "code",
   "execution_count": null,
   "id": "3a5183ef-6ef8-4e4a-9149-57049305f3ab",
   "metadata": {},
   "outputs": [],
   "source": [
    "# Initialize values:\n",
    "logging.basicConfig(level=logging.INFO)\n",
    "path_of_file = Path(example_path) / \"experience\"\n",
    "path_of_env = \"l2rpn_neurips_2020_track1_small\"\n",
    "general_teacher(save_path=path_of_file,\n",
    "                  env_name_path=path_of_env,\n",
    "                  jobs=-1)\n"
   ]
  },
  {
   "cell_type": "markdown",
   "id": "92ae8f53-15d7-4ae6-b8de-ddd01bf9daf2",
   "metadata": {
    "pycharm": {
     "name": "#%% md\n"
    }
   },
   "source": [
    "After Running the Action Search, it is necessary to collect the experience for the tutor.\n"
   ]
  },
  {
   "cell_type": "code",
   "execution_count": null,
   "id": "0cf681c4",
   "metadata": {
    "pycharm": {
     "name": "#%%\n"
    }
   },
   "outputs": [],
   "source": [
    "from curriculumagent.teacher.collect_teacher_experience import make_unitary_actionspace"
   ]
  },
  {
   "cell_type": "code",
   "execution_count": null,
   "id": "58fcbf19",
   "metadata": {
    "pycharm": {
     "name": "#%%\n"
    }
   },
   "outputs": [],
   "source": [
    "list_of_experience = [name for name in os.listdir(Path(example_path) / \"experience\") if \".csv\" in name]\n",
    "make_unitary_actionspace(action_space_file_path=Path(example_path) / \"example_teacher_results.npy\",\n",
    "                         experience_csv_files=list_of_experience,\n",
    "                         env_name_path=path_of_env,\n",
    "                         best_n=250)"
   ]
  }
 ],
 "metadata": {
  "kernelspec": {
   "display_name": "Python 3 (ipykernel)",
   "language": "python",
   "name": "python3"
  },
  "language_info": {
   "codemirror_mode": {
    "name": "ipython",
    "version": 3
   },
   "file_extension": ".py",
   "mimetype": "text/x-python",
   "name": "python",
   "nbconvert_exporter": "python",
   "pygments_lexer": "ipython3",
   "version": "3.9.7"
  }
 },
 "nbformat": 4,
 "nbformat_minor": 5
}