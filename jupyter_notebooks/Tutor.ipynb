{
 "cells": [
  {
   "cell_type": "markdown",
   "id": "fc66d1bb-0c5b-4bcb-901e-e323dcd5eddd",
   "metadata": {
    "pycharm": {
     "name": "#%% md\n"
    }
   },
   "source": []
  },
  {
   "cell_type": "markdown",
   "source": [
    "# Example Script of the Tutor\n",
    "\n",
    "Based on the experience of the N-1 Teacher Notebook, one can now train the tutor agent"
   ],
   "metadata": {
    "collapsed": false,
    "pycharm": {
     "name": "#%% md\n"
    }
   }
  },
  {
   "cell_type": "code",
   "execution_count": null,
   "outputs": [],
   "source": [
    "import os\n",
    "import logging\n",
    "from pathlib import Path\n",
    "import grid2op\n",
    "from lightsim2grid import LightSimBackend\n",
    "\n",
    "logging.basicConfig(level=logging.INFO)\n",
    "example_path = os.getcwd()"
   ],
   "metadata": {
    "collapsed": false,
    "pycharm": {
     "name": "#%%\n"
    }
   }
  },
  {
   "cell_type": "markdown",
   "source": [
    "Again test, whether the environment can be initialized"
   ],
   "metadata": {
    "collapsed": false,
    "pycharm": {
     "name": "#%% md\n"
    }
   }
  },
  {
   "cell_type": "code",
   "execution_count": null,
   "id": "b2582e94-8c43-4874-a6a7-e2b94c181c53",
   "metadata": {},
   "outputs": [],
   "source": [
    "backend = LightSimBackend()\n",
    "env = grid2op.make(\"l2rpn_neurips_2020_track1_small\", backend=backend)\n",
    "env.set_id(1)\n",
    "env.reset()\n",
    "env.chronics_handler.get_name()\n",
    "obs = env.get_obs()"
   ]
  },
  {
   "cell_type": "markdown",
   "source": [
    "Now we run the general tutor to gather experience for the junior agent. Note, we set the ```num_chronics``` quite low to\n",
    "ensure a faster computation. However, for more experience you need to increase the ```num_chronics``` argument."
   ],
   "metadata": {
    "collapsed": false,
    "pycharm": {
     "name": "#%% md\n"
    }
   }
  },
  {
   "cell_type": "code",
   "execution_count": null,
   "id": "4ef324ac-1d54-4f24-94e8-6a0bce40b5d4",
   "metadata": {},
   "outputs": [],
   "source": [
    "from curriculumagent.tutor.tutor import general_tutor"
   ]
  },
  {
   "cell_type": "code",
   "execution_count": null,
   "outputs": [],
   "source": [
    "action_set = Path(example_path) / \"example_teacher_results.npy\"\n",
    "\n",
    "general_tutor(env_name_path=\"l2rpn_neurips_2020_track1_small\",\n",
    "              save_path=Path(example_path) / \"tutor_experience\",\n",
    "              action_paths=action_set,\n",
    "              jobs=-1,\n",
    "              seed=42)"
   ],
   "metadata": {
    "collapsed": false,
    "pycharm": {
     "name": "#%%\n"
    }
   }
  },
  {
   "cell_type": "markdown",
   "id": "285c604b-7de8-4342-aa4c-fea0b678200f",
   "metadata": {
    "pycharm": {
     "name": "#%% md\n"
    }
   },
   "source": [
    "After gathering the experience of the tutor, we again collect the experience for the junior model"
   ]
  },
  {
   "cell_type": "code",
   "execution_count": null,
   "id": "5a2e7a37-998c-47b6-873b-b5a3a3e055c5",
   "metadata": {
    "pycharm": {
     "name": "#%%\n"
    }
   },
   "outputs": [],
   "source": [
    "from curriculumagent.tutor.collect_tutor_experience import prepare_dataset"
   ]
  },
  {
   "cell_type": "code",
   "execution_count": null,
   "outputs": [],
   "source": [
    "prepare_dataset(traindata_path=Path(example_path) / \"tutor_experience\",\n",
    "                target_path=Path(example_path) / \"junior_data\",\n",
    "                dataset_name=\"example\")"
   ],
   "metadata": {
    "collapsed": false,
    "pycharm": {
     "name": "#%%\n"
    }
   }
  }
 ],
 "metadata": {
  "kernelspec": {
   "display_name": "Python 3 (ipykernel)",
   "language": "python",
   "name": "python3"
  },
  "language_info": {
   "codemirror_mode": {
    "name": "ipython",
    "version": 3
   },
   "file_extension": ".py",
   "mimetype": "text/x-python",
   "name": "python",
   "nbconvert_exporter": "python",
   "pygments_lexer": "ipython3",
   "version": "3.9.7"
  }
 },
 "nbformat": 4,
 "nbformat_minor": 5
}