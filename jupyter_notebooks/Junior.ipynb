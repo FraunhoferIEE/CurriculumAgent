{
 "cells": [
  {
   "cell_type": "markdown",
   "id": "f16f9a4c-aacc-4a1b-b784-890954bfae1e",
   "metadata": {},
   "source": [
    "# Example of the Junior Notebook\n",
    "\n",
    "In this Notebook, we present to ways to train the junior model. Either, with the simple Junior model or with an\n",
    "advanced model that can be obtained, if some hyper-parameter tuning was conducted"
   ]
  },
  {
   "cell_type": "code",
   "execution_count": null,
   "id": "529dc95a-8550-48c3-b85c-e4e855532072",
   "metadata": {},
   "outputs": [],
   "source": [
    "import os\n",
    "import logging\n",
    "from pathlib import Path\n",
    "import pickle\n",
    "import json\n",
    "import grid2op\n",
    "import numpy as np\n",
    "from lightsim2grid import LightSimBackend\n",
    "\n",
    "import tensorflow as tf\n",
    "\n",
    "logging.basicConfig(level=logging.INFO)\n",
    "example_path = os.getcwd()"
   ]
  },
  {
   "cell_type": "markdown",
   "source": [
    "Again check the environment"
   ],
   "metadata": {
    "collapsed": false,
    "pycharm": {
     "name": "#%% md\n"
    }
   }
  },
  {
   "cell_type": "code",
   "execution_count": null,
   "id": "c9d5a99a-538a-4105-af94-43d29f07e386",
   "metadata": {},
   "outputs": [],
   "source": [
    "backend = LightSimBackend()\n",
    "env = grid2op.make(\"l2rpn_neurips_2020_track1_small\", backend=backend)\n",
    "env.set_id(1)\n",
    "env.reset()\n",
    "env.chronics_handler.get_name()\n",
    "obs = env.get_obs()"
   ]
  },
  {
   "cell_type": "markdown",
   "source": [
    "## Simple Junior\n",
    "\n",
    "Let's begin with the simple junior for training"
   ],
   "metadata": {
    "collapsed": false,
    "pycharm": {
     "name": "#%% md\n"
    }
   }
  },
  {
   "cell_type": "code",
   "execution_count": null,
   "id": "c2ba0ffc-3e1c-4593-8e04-0ab20cd28fe0",
   "metadata": {},
   "outputs": [],
   "source": [
    "from curriculumagent.junior.junior_student import train, validate"
   ]
  },
  {
   "cell_type": "code",
   "execution_count": null,
   "id": "17ef40a7-6a16-4224-84d7-d42d75c28cbf",
   "metadata": {},
   "outputs": [],
   "source": [
    "action_set = Path(example_path) / \"example_teacher_results.npy\"\n",
    "model_path = Path(example_path) / \"junior_model\"\n",
    "data_path = Path(example_path) / \"junior_data\"\n",
    "\n",
    "train(run_name=\"example\",\n",
    "      dataset_path=data_path,\n",
    "      target_model_path=model_path,\n",
    "      action_space_file=action_set,\n",
    "      dataset_name='junior_dataset',\n",
    "      epochs=100, seed=42)"
   ]
  },
  {
   "cell_type": "code",
   "execution_count": null,
   "id": "b2ee464a-e469-4abe-9157-8aeb71d0f126",
   "metadata": {
    "pycharm": {
     "name": "#%%\n"
    }
   },
   "outputs": [],
   "source": [
    "validate(checkpoint_path=model_path,\n",
    "         dataset_path=data_path,\n",
    "         dataset_name='junior_dataset',\n",
    "         action_space_file=action_set)"
   ]
  },
  {
   "cell_type": "markdown",
   "source": [
    "## Advanced Junior\n",
    "\n",
    "The second option is a more advanced junior agent, that has selected hyper-parameters. You can gather these\n",
    "hyperparameters by running a NNI or ```ray.tune``` experiment. The hyper-parameters need then to be supplied via a\n",
    "dictionary. Note that it is also possible to add a scaler, e.g., a ```MinMaxScaler``` to the Junior. We advise for this \\\n",
    "        option, given that neural networks require values around [-1,1].\n",
    "\n",
    "Note, for simplification we only load the best parameters into the Notebook."
   ],
   "metadata": {
    "collapsed": false,
    "pycharm": {
     "name": "#%% md\n"
    }
   }
  },
  {
   "cell_type": "code",
   "execution_count": null,
   "outputs": [],
   "source": [
    "with open('junior_best_params.json') as json_file:\n",
    "    best_params = json.load(json_file)\n",
    "\n",
    "best_params[\"epochs\"] = 1000\n",
    "best_params[\"initializer\"] = tf.keras.initializers.Orthogonal()\n",
    "\n",
    "best_params"
   ],
   "metadata": {
    "collapsed": false,
    "pycharm": {
     "name": "#%%\n"
    }
   }
  },
  {
   "cell_type": "code",
   "execution_count": null,
   "outputs": [],
   "source": [
    "from curriculumagent.junior.hyper_parameter_search.advanced_junior_student import AdvancedJunior\n",
    "from curriculumagent.junior.junior_student import load_dataset\n",
    "from sklearn.preprocessing import MinMaxScaler"
   ],
   "metadata": {
    "collapsed": false,
    "pycharm": {
     "name": "#%%\n"
    }
   }
  },
  {
   "cell_type": "markdown",
   "source": [
    "Due to the fact that we also want to show the application of a scaler, we additionally show the whole pipeline of the   Junior agent. Therefore, we first fit the data with a MinMaxScaler:\n"
   ],
   "metadata": {
    "collapsed": false,
    "pycharm": {
     "name": "#%% md\n"
    }
   }
  },
  {
   "cell_type": "code",
   "execution_count": null,
   "outputs": [],
   "source": [
    "s_train, a_train, s_validate, a_validate, _, _ = load_dataset(data_path, \"example\")\n",
    "scaler = MinMaxScaler()\n",
    "s_tr_t = scaler.fit_transform(s_train)\n",
    "s_val_t = scaler.transform(s_validate)"
   ],
   "metadata": {
    "collapsed": false,
    "pycharm": {
     "name": "#%%\n"
    }
   }
  },
  {
   "cell_type": "code",
   "execution_count": null,
   "outputs": [],
   "source": [
    "# Pickle the scaler for later\n",
    "with open('scaler_junior.pkl', \"wb\") as fp:\n",
    "    pickle.dump(scaler, fp)"
   ],
   "metadata": {
    "collapsed": false,
    "pycharm": {
     "name": "#%%\n"
    }
   }
  },
  {
   "cell_type": "code",
   "execution_count": null,
   "outputs": [],
   "source": [
    "junior = AdvancedJunior(config=best_params,\n",
    "                        trainset_size=len(a_train),\n",
    "                        # Optimally, you know the number of actions:\n",
    "                        num_actions=np.max(a_train) + 1,\n",
    "                        seed=42)\n",
    "junior.model.summary()"
   ],
   "metadata": {
    "collapsed": false,
    "pycharm": {
     "name": "#%%\n"
    }
   }
  },
  {
   "cell_type": "code",
   "execution_count": null,
   "outputs": [],
   "source": [
    "history = junior.train(log_dir=model_path / \"hyperparam\",\n",
    "                       ckpt_dir=model_path / \"hyperparam\",\n",
    "                       patience=5,\n",
    "                       x_train=s_tr_t, y_train=a_train,\n",
    "                       x_validate=s_val_t, y_validate=a_validate)"
   ],
   "metadata": {
    "collapsed": false,
    "pycharm": {
     "name": "#%%\n"
    }
   }
  },
  {
   "cell_type": "code",
   "execution_count": null,
   "outputs": [],
   "source": [
    "junior.model.save(model_path / \"hyperparam\")"
   ],
   "metadata": {
    "collapsed": false,
    "pycharm": {
     "name": "#%%\n"
    }
   }
  }
 ],
 "metadata": {
  "kernelspec": {
   "display_name": "Python 3 (ipykernel)",
   "language": "python",
   "name": "python3"
  },
  "language_info": {
   "codemirror_mode": {
    "name": "ipython",
    "version": 3
   },
   "file_extension": ".py",
   "mimetype": "text/x-python",
   "name": "python",
   "nbconvert_exporter": "python",
   "pygments_lexer": "ipython3",
   "version": "3.9.7"
  }
 },
 "nbformat": 4,
 "nbformat_minor": 5
}