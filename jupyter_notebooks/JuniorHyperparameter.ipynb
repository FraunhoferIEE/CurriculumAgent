{
 "cells": [
  {
   "cell_type": "markdown",
   "id": "f16f9a4c-aacc-4a1b-b784-890954bfae1e",
   "metadata": {},
   "source": [
    "# Junior Notebook Hyperopt\n",
    "\n",
    "Run and Model of Hyperparameter Training"
   ]
  },
  {
   "cell_type": "code",
   "execution_count": 1,
   "id": "4f8220fc-1e67-47f9-b694-d8ae571005ba",
   "metadata": {},
   "outputs": [
    {
     "name": "stderr",
     "output_type": "stream",
     "text": [
      "2022-04-19 18:09:11.235564: I tensorflow/stream_executor/platform/default/dso_loader.cc:53] Successfully opened dynamic library libcudart.so.11.0\n"
     ]
    }
   ],
   "source": [
    "# %load curriculumagent/junior/hyper_parameter_search_junior.py\n",
    "\"\"\"\n",
    "In this file, the code for the hyperparameter search of the junior model is provided.\n",
    "\n",
    "We first set the range of the parameters and thereafter define the tune experiment\n",
    "\"\"\"\n",
    "import json\n",
    "import pickle\n",
    "import numpy as np\n",
    "from sklearn.preprocessing import StandardScaler,MinMaxScaler\n",
    "from pathlib import Path\n",
    "from typing import Optional\n",
    "import tensorflow as tf\n",
    "\n",
    "from curriculumagent.junior.hyper_parameter_search.advanced_junior_student import AdvancedJunior\n",
    "from curriculumagent.junior.junior_student import load_dataset\n",
    "import matplotlib.pyplot as plt"
   ]
  },
  {
   "cell_type": "code",
   "execution_count": 2,
   "id": "3c2184b1-4fdc-420b-949c-ed9e75eee086",
   "metadata": {},
   "outputs": [
    {
     "data": {
      "text/plain": [
       "'2.5.0'"
      ]
     },
     "execution_count": 2,
     "metadata": {},
     "output_type": "execute_result"
    }
   ],
   "source": [
    "tf.__version__"
   ]
  },
  {
   "cell_type": "code",
   "execution_count": 3,
   "id": "664dc9c2-2d48-45d9-a6e9-1d9bff8f9f40",
   "metadata": {},
   "outputs": [
    {
     "data": {
      "text/plain": [
       "{'activation': 'relu',\n",
       " 'batchsize': 256,\n",
       " 'dropout1': 0.19492379978847293,\n",
       " 'dropout2': 0.1259373123876904,\n",
       " 'initializer': <tensorflow.python.keras.initializers.initializers_v2.Orthogonal at 0x7f02cd0c2820>,\n",
       " 'layer1': 1415.0,\n",
       " 'layer2': 1252.0,\n",
       " 'layer3': 1485.0,\n",
       " 'layer4': 232.0,\n",
       " 'learning_rate': 0.0003013467240068926,\n",
       " 'TRIAL_BUDGET': 11,\n",
       " 'epochs': 1000}"
      ]
     },
     "execution_count": 3,
     "metadata": {},
     "output_type": "execute_result"
    }
   ],
   "source": [
    "with open('/home/mlehna/AI2Go/l2rpn_binbinchen_iee/junior_best_params.json') as json_file:\n",
    "    best_params = json.load(json_file)\n",
    "\n",
    "best_params[\"epochs\"] = 1000\n",
    "best_params[\"initializer\"] = tf.keras.initializers.Orthogonal()\n",
    "for name in [\"layer1\",\"layer2\",\"layer3\",\"layer4\"]:\n",
    "        best_params[name] = np.round(best_params[name])\n",
    "    \n",
    "best_params"
   ]
  },
  {
   "cell_type": "markdown",
   "id": "a127e8da-b17d-4ad5-af8b-6864ca3bd710",
   "metadata": {},
   "source": [
    "## Now run final training: "
   ]
  },
  {
   "cell_type": "code",
   "execution_count": 4,
   "id": "c48803a9-6ab2-4a46-9d7c-0bdc2a3ffb78",
   "metadata": {},
   "outputs": [
    {
     "name": "stderr",
     "output_type": "stream",
     "text": [
      "2022-04-19 18:09:29.574952: I tensorflow/stream_executor/platform/default/dso_loader.cc:53] Successfully opened dynamic library libcuda.so.1\n",
      "2022-04-19 18:09:29.617632: I tensorflow/core/common_runtime/gpu/gpu_device.cc:1733] Found device 0 with properties: \n",
      "pciBusID: 0000:01:00.0 name: A100-SXM4-40GB computeCapability: 8.0\n",
      "coreClock: 1.41GHz coreCount: 108 deviceMemorySize: 39.59GiB deviceMemoryBandwidth: 1.41TiB/s\n",
      "2022-04-19 18:09:29.620750: I tensorflow/core/common_runtime/gpu/gpu_device.cc:1733] Found device 1 with properties: \n",
      "pciBusID: 0000:41:00.0 name: A100-SXM4-40GB computeCapability: 8.0\n",
      "coreClock: 1.41GHz coreCount: 108 deviceMemorySize: 39.59GiB deviceMemoryBandwidth: 1.41TiB/s\n",
      "2022-04-19 18:09:29.620800: I tensorflow/stream_executor/platform/default/dso_loader.cc:53] Successfully opened dynamic library libcudart.so.11.0\n",
      "2022-04-19 18:09:29.626276: I tensorflow/stream_executor/platform/default/dso_loader.cc:53] Successfully opened dynamic library libcublas.so.11\n",
      "2022-04-19 18:09:29.626348: I tensorflow/stream_executor/platform/default/dso_loader.cc:53] Successfully opened dynamic library libcublasLt.so.11\n",
      "2022-04-19 18:09:29.629294: I tensorflow/stream_executor/platform/default/dso_loader.cc:53] Successfully opened dynamic library libcufft.so.10\n",
      "2022-04-19 18:09:29.630708: I tensorflow/stream_executor/platform/default/dso_loader.cc:53] Successfully opened dynamic library libcurand.so.10\n",
      "2022-04-19 18:09:29.635989: I tensorflow/stream_executor/platform/default/dso_loader.cc:53] Successfully opened dynamic library libcusolver.so.11\n",
      "2022-04-19 18:09:29.637826: I tensorflow/stream_executor/platform/default/dso_loader.cc:53] Successfully opened dynamic library libcusparse.so.11\n",
      "2022-04-19 18:09:29.639014: I tensorflow/stream_executor/platform/default/dso_loader.cc:53] Successfully opened dynamic library libcudnn.so.8\n",
      "2022-04-19 18:09:29.671802: I tensorflow/core/common_runtime/gpu/gpu_device.cc:1871] Adding visible gpu devices: 0, 1\n",
      "2022-04-19 18:09:29.672630: I tensorflow/core/platform/cpu_feature_guard.cc:142] This TensorFlow binary is optimized with oneAPI Deep Neural Network Library (oneDNN) to use the following CPU instructions in performance-critical operations:  AVX2 FMA\n",
      "To enable them in other operations, rebuild TensorFlow with the appropriate compiler flags.\n",
      "2022-04-19 18:09:29.901241: I tensorflow/core/common_runtime/gpu/gpu_device.cc:1733] Found device 0 with properties: \n",
      "pciBusID: 0000:01:00.0 name: A100-SXM4-40GB computeCapability: 8.0\n",
      "coreClock: 1.41GHz coreCount: 108 deviceMemorySize: 39.59GiB deviceMemoryBandwidth: 1.41TiB/s\n",
      "2022-04-19 18:09:29.903888: I tensorflow/core/common_runtime/gpu/gpu_device.cc:1733] Found device 1 with properties: \n",
      "pciBusID: 0000:41:00.0 name: A100-SXM4-40GB computeCapability: 8.0\n",
      "coreClock: 1.41GHz coreCount: 108 deviceMemorySize: 39.59GiB deviceMemoryBandwidth: 1.41TiB/s\n",
      "2022-04-19 18:09:29.914284: I tensorflow/core/common_runtime/gpu/gpu_device.cc:1871] Adding visible gpu devices: 0, 1\n",
      "2022-04-19 18:09:29.930451: I tensorflow/stream_executor/platform/default/dso_loader.cc:53] Successfully opened dynamic library libcudart.so.11.0\n",
      "2022-04-19 18:09:34.474295: I tensorflow/core/common_runtime/gpu/gpu_device.cc:1258] Device interconnect StreamExecutor with strength 1 edge matrix:\n",
      "2022-04-19 18:09:34.474348: I tensorflow/core/common_runtime/gpu/gpu_device.cc:1264]      0 1 \n",
      "2022-04-19 18:09:34.474356: I tensorflow/core/common_runtime/gpu/gpu_device.cc:1277] 0:   N Y \n",
      "2022-04-19 18:09:34.474360: I tensorflow/core/common_runtime/gpu/gpu_device.cc:1277] 1:   Y N \n",
      "2022-04-19 18:09:34.482950: I tensorflow/core/common_runtime/gpu/gpu_device.cc:1418] Created TensorFlow device (/job:localhost/replica:0/task:0/device:GPU:0 with 36014 MB memory) -> physical GPU (device: 0, name: A100-SXM4-40GB, pci bus id: 0000:01:00.0, compute capability: 8.0)\n",
      "2022-04-19 18:09:34.534902: I tensorflow/core/common_runtime/gpu/gpu_device.cc:1418] Created TensorFlow device (/job:localhost/replica:0/task:0/device:GPU:1 with 37294 MB memory) -> physical GPU (device: 1, name: A100-SXM4-40GB, pci bus id: 0000:41:00.0, compute capability: 8.0)\n"
     ]
    },
    {
     "name": "stdout",
     "output_type": "stream",
     "text": [
      "[2022-04-19 18:09:34] INFO (root/MainThread) <bound method Model.summary of <tensorflow.python.keras.engine.sequential.Sequential object at 0x7f02ccfeeb50>>\n"
     ]
    },
    {
     "name": "stderr",
     "output_type": "stream",
     "text": [
      "2022-04-19 18:09:34.910609: I tensorflow/core/profiler/lib/profiler_session.cc:126] Profiler session initializing.\n",
      "2022-04-19 18:09:34.910651: I tensorflow/core/profiler/lib/profiler_session.cc:141] Profiler session started.\n",
      "2022-04-19 18:09:34.910715: I tensorflow/core/profiler/internal/gpu/cupti_tracer.cc:1611] Profiler found 2 GPUs\n",
      "2022-04-19 18:09:34.912054: W tensorflow/stream_executor/platform/default/dso_loader.cc:64] Could not load dynamic library 'libcupti.so.11.2'; dlerror: libcupti.so.11.2: cannot open shared object file: No such file or directory; LD_LIBRARY_PATH: /share/apps/cuda/cuda-11.a.20/lib64:/share/apps/cuda/cuda-11.0.2/extras/CUPTI/lib64:/share/apps/cuda/cuda-11.0.2/targets/x86_64-linux/lib/:/share/apps/anaconda/anaconda3.7/lib64\n",
      "2022-04-19 18:09:34.993150: I tensorflow/stream_executor/platform/default/dso_loader.cc:53] Successfully opened dynamic library libcupti.so\n"
     ]
    },
    {
     "name": "stdout",
     "output_type": "stream",
     "text": [
      "WARNING:tensorflow:`period` argument is deprecated. Please use `save_freq` to specify the frequency in number of batches seen.\n",
      "[2022-04-19 18:09:35] WARNING (tensorflow/MainThread) `period` argument is deprecated. Please use `save_freq` to specify the frequency in number of batches seen.\n"
     ]
    },
    {
     "name": "stderr",
     "output_type": "stream",
     "text": [
      "2022-04-19 18:09:35.401989: I tensorflow/core/profiler/lib/profiler_session.cc:159] Profiler session tear down.\n",
      "2022-04-19 18:09:35.402226: I tensorflow/core/profiler/internal/gpu/cupti_tracer.cc:1743] CUPTI activity buffer flushed\n"
     ]
    },
    {
     "name": "stdout",
     "output_type": "stream",
     "text": [
      "Epoch 1/1000\n"
     ]
    },
    {
     "name": "stderr",
     "output_type": "stream",
     "text": [
      "2022-04-19 18:09:35.885165: I tensorflow/compiler/mlir/mlir_graph_optimization_pass.cc:176] None of the MLIR Optimization Passes are enabled (registered 2)\n",
      "2022-04-19 18:09:35.885889: I tensorflow/core/platform/profile_utils/cpu_utils.cc:114] CPU Frequency: 1999930000 Hz\n",
      "2022-04-19 18:09:37.303774: I tensorflow/stream_executor/platform/default/dso_loader.cc:53] Successfully opened dynamic library libcublas.so.11\n",
      "2022-04-19 18:09:37.867908: I tensorflow/stream_executor/platform/default/dso_loader.cc:53] Successfully opened dynamic library libcublasLt.so.11\n",
      "2022-04-19 18:09:37.868624: I tensorflow/stream_executor/cuda/cuda_blas.cc:1838] TensorFloat-32 will be used for the matrix multiplication. This will only be logged once.\n",
      "2022-04-19 18:09:38.001338: I tensorflow/core/profiler/lib/profiler_session.cc:126] Profiler session initializing.\n",
      "2022-04-19 18:09:38.001381: I tensorflow/core/profiler/lib/profiler_session.cc:141] Profiler session started.\n",
      "2022-04-19 18:09:38.347041: I tensorflow/core/profiler/lib/profiler_session.cc:66] Profiler session collecting data.\n",
      "2022-04-19 18:09:38.347447: I tensorflow/core/profiler/internal/gpu/cupti_tracer.cc:1743] CUPTI activity buffer flushed\n",
      "2022-04-19 18:09:38.488656: I tensorflow/core/profiler/internal/gpu/cupti_collector.cc:673]  GpuTracer has collected 116 callback api events and 115 activity events. \n",
      "2022-04-19 18:09:38.493918: I tensorflow/core/profiler/lib/profiler_session.cc:159] Profiler session tear down.\n",
      "2022-04-19 18:09:38.554206: I tensorflow/core/profiler/rpc/client/save_profile.cc:137] Creating directory: /share/data1/GYM/junior/hyperopt/train/train/plugins/profile/2022_04_19_18_09_38\n",
      "2022-04-19 18:09:38.557931: I tensorflow/core/profiler/rpc/client/save_profile.cc:143] Dumped gzipped tool data for trace.json.gz to /share/data1/GYM/junior/hyperopt/train/train/plugins/profile/2022_04_19_18_09_38/compute-gpu-0-4.local.trace.json.gz\n",
      "2022-04-19 18:09:38.613849: I tensorflow/core/profiler/rpc/client/save_profile.cc:137] Creating directory: /share/data1/GYM/junior/hyperopt/train/train/plugins/profile/2022_04_19_18_09_38\n",
      "2022-04-19 18:09:38.615905: I tensorflow/core/profiler/rpc/client/save_profile.cc:143] Dumped gzipped tool data for memory_profile.json.gz to /share/data1/GYM/junior/hyperopt/train/train/plugins/profile/2022_04_19_18_09_38/compute-gpu-0-4.local.memory_profile.json.gz\n",
      "2022-04-19 18:09:38.681279: I tensorflow/core/profiler/rpc/client/capture_profile.cc:251] Creating directory: /share/data1/GYM/junior/hyperopt/train/train/plugins/profile/2022_04_19_18_09_38Dumped tool data for xplane.pb to /share/data1/GYM/junior/hyperopt/train/train/plugins/profile/2022_04_19_18_09_38/compute-gpu-0-4.local.xplane.pb\n",
      "Dumped tool data for overview_page.pb to /share/data1/GYM/junior/hyperopt/train/train/plugins/profile/2022_04_19_18_09_38/compute-gpu-0-4.local.overview_page.pb\n",
      "Dumped tool data for input_pipeline.pb to /share/data1/GYM/junior/hyperopt/train/train/plugins/profile/2022_04_19_18_09_38/compute-gpu-0-4.local.input_pipeline.pb\n",
      "Dumped tool data for tensorflow_stats.pb to /share/data1/GYM/junior/hyperopt/train/train/plugins/profile/2022_04_19_18_09_38/compute-gpu-0-4.local.tensorflow_stats.pb\n",
      "Dumped tool data for kernel_stats.pb to /share/data1/GYM/junior/hyperopt/train/train/plugins/profile/2022_04_19_18_09_38/compute-gpu-0-4.local.kernel_stats.pb\n",
      "\n"
     ]
    },
    {
     "name": "stdout",
     "output_type": "stream",
     "text": [
      "619/619 - 5s - loss: 4.9890 - accuracy: 0.0938 - val_loss: 4.5100 - val_accuracy: 0.1339\n",
      "Epoch 2/1000\n",
      "619/619 - 2s - loss: 4.4010 - accuracy: 0.1431 - val_loss: 4.2416 - val_accuracy: 0.1582\n",
      "Epoch 3/1000\n",
      "619/619 - 2s - loss: 4.1846 - accuracy: 0.1628 - val_loss: 4.1184 - val_accuracy: 0.1627\n",
      "Epoch 4/1000\n",
      "619/619 - 2s - loss: 4.0496 - accuracy: 0.1753 - val_loss: 3.9770 - val_accuracy: 0.1875\n",
      "Epoch 5/1000\n",
      "619/619 - 2s - loss: 3.9483 - accuracy: 0.1865 - val_loss: 3.8781 - val_accuracy: 0.1975\n",
      "Epoch 6/1000\n",
      "619/619 - 2s - loss: 3.8678 - accuracy: 0.1937 - val_loss: 3.8152 - val_accuracy: 0.2055\n",
      "Epoch 7/1000\n",
      "619/619 - 2s - loss: 3.7924 - accuracy: 0.2014 - val_loss: 3.7734 - val_accuracy: 0.2084\n",
      "Epoch 8/1000\n",
      "619/619 - 2s - loss: 3.7294 - accuracy: 0.2083 - val_loss: 3.7124 - val_accuracy: 0.2143\n",
      "Epoch 9/1000\n",
      "619/619 - 2s - loss: 3.6726 - accuracy: 0.2131 - val_loss: 3.6585 - val_accuracy: 0.2230\n",
      "Epoch 10/1000\n",
      "619/619 - 2s - loss: 3.6257 - accuracy: 0.2195 - val_loss: 3.7531 - val_accuracy: 0.2062\n",
      "\n",
      "Epoch 00010: saving model to /share/data1/GYM/junior/hyperopt/train/ckpt_10\n"
     ]
    },
    {
     "name": "stderr",
     "output_type": "stream",
     "text": [
      "2022-04-19 18:10:02.149825: W tensorflow/python/util/util.cc:348] Sets are not currently considered sequences, but this may change in the future, so consider avoiding using them.\n"
     ]
    },
    {
     "name": "stdout",
     "output_type": "stream",
     "text": [
      "[2022-04-19 18:10:02] WARNING (absl/MainThread) Found untraced functions such as re_lu_layer_call_fn, re_lu_layer_call_and_return_conditional_losses, re_lu_layer_call_fn, re_lu_layer_call_and_return_conditional_losses, re_lu_layer_call_and_return_conditional_losses while saving (showing 5 of 5). These functions will not be directly callable after loading.\n",
      "INFO:tensorflow:Assets written to: /share/data1/GYM/junior/hyperopt/train/ckpt_10/assets\n",
      "[2022-04-19 18:10:03] INFO (tensorflow/MainThread) Assets written to: /share/data1/GYM/junior/hyperopt/train/ckpt_10/assets\n",
      "Epoch 11/1000\n",
      "619/619 - 2s - loss: 3.5832 - accuracy: 0.2235 - val_loss: 3.6198 - val_accuracy: 0.2280\n",
      "Epoch 12/1000\n",
      "619/619 - 2s - loss: 3.5399 - accuracy: 0.2275 - val_loss: 3.6126 - val_accuracy: 0.2281\n",
      "Epoch 13/1000\n",
      "619/619 - 2s - loss: 3.5071 - accuracy: 0.2311 - val_loss: 3.5493 - val_accuracy: 0.2355\n",
      "Epoch 14/1000\n",
      "619/619 - 2s - loss: 3.4652 - accuracy: 0.2361 - val_loss: 3.5566 - val_accuracy: 0.2378\n",
      "Epoch 15/1000\n",
      "619/619 - 2s - loss: 3.4329 - accuracy: 0.2405 - val_loss: 3.6391 - val_accuracy: 0.2242\n",
      "Epoch 16/1000\n",
      "619/619 - 2s - loss: 3.4050 - accuracy: 0.2439 - val_loss: 3.5361 - val_accuracy: 0.2414\n",
      "Epoch 17/1000\n",
      "619/619 - 2s - loss: 3.3660 - accuracy: 0.2494 - val_loss: 3.4946 - val_accuracy: 0.2471\n",
      "Epoch 18/1000\n",
      "619/619 - 2s - loss: 3.3363 - accuracy: 0.2522 - val_loss: 3.4668 - val_accuracy: 0.2507\n",
      "Epoch 19/1000\n",
      "619/619 - 2s - loss: 3.3027 - accuracy: 0.2556 - val_loss: 3.4591 - val_accuracy: 0.2510\n",
      "Epoch 20/1000\n",
      "619/619 - 2s - loss: 3.2788 - accuracy: 0.2599 - val_loss: 3.4705 - val_accuracy: 0.2485\n",
      "\n",
      "Epoch 00020: saving model to /share/data1/GYM/junior/hyperopt/train/ckpt_20\n",
      "[2022-04-19 18:10:26] WARNING (absl/MainThread) Found untraced functions such as re_lu_layer_call_fn, re_lu_layer_call_and_return_conditional_losses, re_lu_layer_call_fn, re_lu_layer_call_and_return_conditional_losses, re_lu_layer_call_and_return_conditional_losses while saving (showing 5 of 5). These functions will not be directly callable after loading.\n",
      "INFO:tensorflow:Assets written to: /share/data1/GYM/junior/hyperopt/train/ckpt_20/assets\n",
      "[2022-04-19 18:10:27] INFO (tensorflow/MainThread) Assets written to: /share/data1/GYM/junior/hyperopt/train/ckpt_20/assets\n",
      "Epoch 21/1000\n",
      "619/619 - 2s - loss: 3.2457 - accuracy: 0.2632 - val_loss: 3.4528 - val_accuracy: 0.2557\n",
      "Epoch 22/1000\n",
      "619/619 - 2s - loss: 3.2242 - accuracy: 0.2654 - val_loss: 3.4580 - val_accuracy: 0.2503\n",
      "Epoch 23/1000\n",
      "619/619 - 2s - loss: 3.1937 - accuracy: 0.2700 - val_loss: 3.4330 - val_accuracy: 0.2558\n",
      "Epoch 24/1000\n",
      "619/619 - 2s - loss: 3.1617 - accuracy: 0.2744 - val_loss: 3.4380 - val_accuracy: 0.2578\n",
      "Epoch 25/1000\n",
      "619/619 - 2s - loss: 3.1384 - accuracy: 0.2776 - val_loss: 3.4242 - val_accuracy: 0.2595\n",
      "Epoch 26/1000\n",
      "619/619 - 2s - loss: 3.1155 - accuracy: 0.2790 - val_loss: 3.4160 - val_accuracy: 0.2612\n",
      "Epoch 27/1000\n",
      "619/619 - 2s - loss: 3.0852 - accuracy: 0.2826 - val_loss: 3.4043 - val_accuracy: 0.2652\n",
      "Epoch 28/1000\n",
      "619/619 - 2s - loss: 3.0634 - accuracy: 0.2871 - val_loss: 3.4065 - val_accuracy: 0.2623\n",
      "Epoch 29/1000\n",
      "619/619 - 2s - loss: 3.0406 - accuracy: 0.2883 - val_loss: 3.3979 - val_accuracy: 0.2670\n",
      "Epoch 30/1000\n",
      "619/619 - 2s - loss: 3.0106 - accuracy: 0.2937 - val_loss: 3.4111 - val_accuracy: 0.2625\n",
      "\n",
      "Epoch 00030: saving model to /share/data1/GYM/junior/hyperopt/train/ckpt_30\n",
      "[2022-04-19 18:10:50] WARNING (absl/MainThread) Found untraced functions such as re_lu_layer_call_fn, re_lu_layer_call_and_return_conditional_losses, re_lu_layer_call_fn, re_lu_layer_call_and_return_conditional_losses, re_lu_layer_call_and_return_conditional_losses while saving (showing 5 of 5). These functions will not be directly callable after loading.\n",
      "INFO:tensorflow:Assets written to: /share/data1/GYM/junior/hyperopt/train/ckpt_30/assets\n",
      "[2022-04-19 18:10:51] INFO (tensorflow/MainThread) Assets written to: /share/data1/GYM/junior/hyperopt/train/ckpt_30/assets\n",
      "Epoch 31/1000\n",
      "619/619 - 2s - loss: 2.9839 - accuracy: 0.2976 - val_loss: 3.3801 - val_accuracy: 0.2687\n",
      "Epoch 32/1000\n",
      "619/619 - 2s - loss: 2.9597 - accuracy: 0.3012 - val_loss: 3.3921 - val_accuracy: 0.2673\n",
      "Epoch 33/1000\n",
      "619/619 - 2s - loss: 2.9328 - accuracy: 0.3042 - val_loss: 3.4118 - val_accuracy: 0.2645\n",
      "Epoch 34/1000\n",
      "619/619 - 2s - loss: 2.9108 - accuracy: 0.3075 - val_loss: 3.4225 - val_accuracy: 0.2634\n",
      "Epoch 35/1000\n",
      "619/619 - 2s - loss: 2.8864 - accuracy: 0.3111 - val_loss: 3.4606 - val_accuracy: 0.2618\n",
      "Epoch 36/1000\n",
      "619/619 - 2s - loss: 2.8632 - accuracy: 0.3131 - val_loss: 3.4200 - val_accuracy: 0.2682\n",
      "Epoch 37/1000\n",
      "619/619 - 2s - loss: 2.8368 - accuracy: 0.3177 - val_loss: 3.3887 - val_accuracy: 0.2737\n",
      "Epoch 38/1000\n",
      "619/619 - 2s - loss: 2.8106 - accuracy: 0.3209 - val_loss: 3.4560 - val_accuracy: 0.2619\n",
      "Epoch 39/1000\n",
      "619/619 - 2s - loss: 2.7815 - accuracy: 0.3254 - val_loss: 3.4164 - val_accuracy: 0.2684\n",
      "Epoch 40/1000\n",
      "619/619 - 2s - loss: 2.7593 - accuracy: 0.3302 - val_loss: 3.4227 - val_accuracy: 0.2686\n",
      "\n",
      "Epoch 00040: saving model to /share/data1/GYM/junior/hyperopt/train/ckpt_40\n",
      "[2022-04-19 18:11:15] WARNING (absl/MainThread) Found untraced functions such as re_lu_layer_call_fn, re_lu_layer_call_and_return_conditional_losses, re_lu_layer_call_fn, re_lu_layer_call_and_return_conditional_losses, re_lu_layer_call_and_return_conditional_losses while saving (showing 5 of 5). These functions will not be directly callable after loading.\n",
      "INFO:tensorflow:Assets written to: /share/data1/GYM/junior/hyperopt/train/ckpt_40/assets\n",
      "[2022-04-19 18:11:15] INFO (tensorflow/MainThread) Assets written to: /share/data1/GYM/junior/hyperopt/train/ckpt_40/assets\n",
      "Epoch 41/1000\n",
      "619/619 - 2s - loss: 2.7373 - accuracy: 0.3325 - val_loss: 3.4325 - val_accuracy: 0.2723\n",
      "Epoch 42/1000\n",
      "619/619 - 2s - loss: 2.7091 - accuracy: 0.3366 - val_loss: 3.4290 - val_accuracy: 0.2740\n",
      "Epoch 43/1000\n",
      "619/619 - 2s - loss: 2.6856 - accuracy: 0.3404 - val_loss: 3.4603 - val_accuracy: 0.2734\n",
      "Epoch 44/1000\n",
      "619/619 - 2s - loss: 2.6601 - accuracy: 0.3442 - val_loss: 3.4501 - val_accuracy: 0.2735\n",
      "Epoch 45/1000\n",
      "619/619 - 2s - loss: 2.6397 - accuracy: 0.3484 - val_loss: 3.4757 - val_accuracy: 0.2699\n",
      "Epoch 46/1000\n",
      "619/619 - 2s - loss: 2.6126 - accuracy: 0.3515 - val_loss: 3.4568 - val_accuracy: 0.2734\n",
      "Epoch 47/1000\n",
      "619/619 - 2s - loss: 2.5832 - accuracy: 0.3572 - val_loss: 3.4782 - val_accuracy: 0.2736\n",
      "Epoch 48/1000\n",
      "619/619 - 2s - loss: 2.5611 - accuracy: 0.3594 - val_loss: 3.5063 - val_accuracy: 0.2717\n",
      "Epoch 49/1000\n",
      "619/619 - 2s - loss: 2.5375 - accuracy: 0.3637 - val_loss: 3.4775 - val_accuracy: 0.2751\n",
      "Epoch 50/1000\n",
      "619/619 - 2s - loss: 2.5153 - accuracy: 0.3662 - val_loss: 3.5365 - val_accuracy: 0.2725\n",
      "\n",
      "Epoch 00050: saving model to /share/data1/GYM/junior/hyperopt/train/ckpt_50\n",
      "[2022-04-19 18:11:40] WARNING (absl/MainThread) Found untraced functions such as re_lu_layer_call_fn, re_lu_layer_call_and_return_conditional_losses, re_lu_layer_call_fn, re_lu_layer_call_and_return_conditional_losses, re_lu_layer_call_and_return_conditional_losses while saving (showing 5 of 5). These functions will not be directly callable after loading.\n",
      "INFO:tensorflow:Assets written to: /share/data1/GYM/junior/hyperopt/train/ckpt_50/assets\n",
      "[2022-04-19 18:11:40] INFO (tensorflow/MainThread) Assets written to: /share/data1/GYM/junior/hyperopt/train/ckpt_50/assets\n",
      "Epoch 51/1000\n",
      "619/619 - 2s - loss: 2.4828 - accuracy: 0.3732 - val_loss: 3.5615 - val_accuracy: 0.2598\n",
      "Epoch 52/1000\n",
      "619/619 - 2s - loss: 2.4611 - accuracy: 0.3764 - val_loss: 3.5445 - val_accuracy: 0.2731\n",
      "Epoch 53/1000\n",
      "619/619 - 2s - loss: 2.4344 - accuracy: 0.3822 - val_loss: 3.5579 - val_accuracy: 0.2673\n",
      "Epoch 54/1000\n",
      "619/619 - 2s - loss: 2.4157 - accuracy: 0.3830 - val_loss: 3.5615 - val_accuracy: 0.2722\n",
      "Epoch 55/1000\n",
      "619/619 - 2s - loss: 2.3901 - accuracy: 0.3895 - val_loss: 3.5708 - val_accuracy: 0.2715\n",
      "Epoch 56/1000\n",
      "619/619 - 2s - loss: 2.3673 - accuracy: 0.3925 - val_loss: 3.5928 - val_accuracy: 0.2687\n",
      "Epoch 57/1000\n",
      "619/619 - 2s - loss: 2.3489 - accuracy: 0.3951 - val_loss: 3.5739 - val_accuracy: 0.2726\n",
      "Epoch 58/1000\n",
      "619/619 - 2s - loss: 2.3178 - accuracy: 0.4010 - val_loss: 3.6455 - val_accuracy: 0.2738\n",
      "Epoch 59/1000\n",
      "619/619 - 2s - loss: 2.2926 - accuracy: 0.4067 - val_loss: 3.6559 - val_accuracy: 0.2677\n",
      "Epoch 60/1000\n",
      "619/619 - 2s - loss: 2.2725 - accuracy: 0.4112 - val_loss: 3.6622 - val_accuracy: 0.2698\n",
      "\n",
      "Epoch 00060: saving model to /share/data1/GYM/junior/hyperopt/train/ckpt_60\n",
      "[2022-04-19 18:12:04] WARNING (absl/MainThread) Found untraced functions such as re_lu_layer_call_fn, re_lu_layer_call_and_return_conditional_losses, re_lu_layer_call_fn, re_lu_layer_call_and_return_conditional_losses, re_lu_layer_call_and_return_conditional_losses while saving (showing 5 of 5). These functions will not be directly callable after loading.\n",
      "INFO:tensorflow:Assets written to: /share/data1/GYM/junior/hyperopt/train/ckpt_60/assets\n",
      "[2022-04-19 18:12:05] INFO (tensorflow/MainThread) Assets written to: /share/data1/GYM/junior/hyperopt/train/ckpt_60/assets\n",
      "Epoch 61/1000\n",
      "619/619 - 2s - loss: 2.2565 - accuracy: 0.4119 - val_loss: 3.6518 - val_accuracy: 0.2669\n",
      "Epoch 62/1000\n",
      "619/619 - 2s - loss: 2.2279 - accuracy: 0.4189 - val_loss: 3.6568 - val_accuracy: 0.2724\n",
      "Epoch 63/1000\n",
      "619/619 - 2s - loss: 2.2007 - accuracy: 0.4245 - val_loss: 3.6981 - val_accuracy: 0.2698\n",
      "Epoch 64/1000\n",
      "619/619 - 2s - loss: 2.1765 - accuracy: 0.4290 - val_loss: 3.7252 - val_accuracy: 0.2665\n",
      "Epoch 65/1000\n",
      "619/619 - 2s - loss: 2.1547 - accuracy: 0.4318 - val_loss: 3.7584 - val_accuracy: 0.2682\n",
      "Epoch 66/1000\n",
      "619/619 - 2s - loss: 2.1341 - accuracy: 0.4348 - val_loss: 3.7439 - val_accuracy: 0.2717\n",
      "Epoch 67/1000\n",
      "619/619 - 2s - loss: 2.1138 - accuracy: 0.4385 - val_loss: 3.7542 - val_accuracy: 0.2709\n",
      "Epoch 68/1000\n",
      "619/619 - 2s - loss: 2.0920 - accuracy: 0.4451 - val_loss: 3.7816 - val_accuracy: 0.2699\n",
      "Epoch 69/1000\n",
      "619/619 - 2s - loss: 2.0735 - accuracy: 0.4482 - val_loss: 3.7959 - val_accuracy: 0.2723\n",
      "Epoch 70/1000\n",
      "619/619 - 2s - loss: 2.0463 - accuracy: 0.4537 - val_loss: 3.8446 - val_accuracy: 0.2682\n",
      "\n",
      "Epoch 00070: saving model to /share/data1/GYM/junior/hyperopt/train/ckpt_70\n",
      "[2022-04-19 18:12:29] WARNING (absl/MainThread) Found untraced functions such as re_lu_layer_call_fn, re_lu_layer_call_and_return_conditional_losses, re_lu_layer_call_fn, re_lu_layer_call_and_return_conditional_losses, re_lu_layer_call_and_return_conditional_losses while saving (showing 5 of 5). These functions will not be directly callable after loading.\n",
      "INFO:tensorflow:Assets written to: /share/data1/GYM/junior/hyperopt/train/ckpt_70/assets\n",
      "[2022-04-19 18:12:30] INFO (tensorflow/MainThread) Assets written to: /share/data1/GYM/junior/hyperopt/train/ckpt_70/assets\n",
      "Epoch 71/1000\n",
      "619/619 - 2s - loss: 2.0247 - accuracy: 0.4581 - val_loss: 3.8512 - val_accuracy: 0.2694\n",
      "Epoch 72/1000\n",
      "619/619 - 2s - loss: 2.0117 - accuracy: 0.4596 - val_loss: 3.8872 - val_accuracy: 0.2680\n",
      "Epoch 73/1000\n",
      "619/619 - 2s - loss: 1.9824 - accuracy: 0.4646 - val_loss: 3.8852 - val_accuracy: 0.2705\n",
      "Epoch 74/1000\n",
      "619/619 - 2s - loss: 1.9642 - accuracy: 0.4701 - val_loss: 3.9016 - val_accuracy: 0.2681\n",
      "Epoch 75/1000\n",
      "619/619 - 2s - loss: 1.9432 - accuracy: 0.4739 - val_loss: 3.9485 - val_accuracy: 0.2605\n",
      "Epoch 76/1000\n",
      "619/619 - 2s - loss: 1.9256 - accuracy: 0.4767 - val_loss: 3.9451 - val_accuracy: 0.2626\n",
      "Epoch 77/1000\n",
      "619/619 - 2s - loss: 1.8971 - accuracy: 0.4835 - val_loss: 3.9315 - val_accuracy: 0.2697\n",
      "Epoch 78/1000\n",
      "619/619 - 2s - loss: 1.8859 - accuracy: 0.4851 - val_loss: 4.0219 - val_accuracy: 0.2654\n",
      "Epoch 79/1000\n",
      "619/619 - 2s - loss: 1.8628 - accuracy: 0.4912 - val_loss: 3.9656 - val_accuracy: 0.2661\n",
      "Epoch 80/1000\n",
      "619/619 - 2s - loss: 1.8452 - accuracy: 0.4957 - val_loss: 4.0417 - val_accuracy: 0.2710\n",
      "\n",
      "Epoch 00080: saving model to /share/data1/GYM/junior/hyperopt/train/ckpt_80\n",
      "[2022-04-19 18:12:54] WARNING (absl/MainThread) Found untraced functions such as re_lu_layer_call_fn, re_lu_layer_call_and_return_conditional_losses, re_lu_layer_call_fn, re_lu_layer_call_and_return_conditional_losses, re_lu_layer_call_and_return_conditional_losses while saving (showing 5 of 5). These functions will not be directly callable after loading.\n",
      "INFO:tensorflow:Assets written to: /share/data1/GYM/junior/hyperopt/train/ckpt_80/assets\n",
      "[2022-04-19 18:12:54] INFO (tensorflow/MainThread) Assets written to: /share/data1/GYM/junior/hyperopt/train/ckpt_80/assets\n",
      "Epoch 81/1000\n",
      "619/619 - 2s - loss: 1.8230 - accuracy: 0.4988 - val_loss: 4.0610 - val_accuracy: 0.2687\n",
      "Model: \"sequential\"\n",
      "_________________________________________________________________\n",
      "Layer (type)                 Output Shape              Param #   \n",
      "=================================================================\n",
      "dense (Dense)                (None, 1415)              1729130   \n",
      "_________________________________________________________________\n",
      "dense_1 (Dense)              (None, 1252)              1772832   \n",
      "_________________________________________________________________\n",
      "dense_2 (Dense)              (None, 1485)              1860705   \n",
      "_________________________________________________________________\n",
      "dropout (Dropout)            (None, 1485)              0         \n",
      "_________________________________________________________________\n",
      "dense_3 (Dense)              (None, 232)               344752    \n",
      "_________________________________________________________________\n",
      "dropout_1 (Dropout)          (None, 232)               0         \n",
      "_________________________________________________________________\n",
      "dense_4 (Dense)              (None, 806)               187798    \n",
      "=================================================================\n",
      "Total params: 5,895,217\n",
      "Trainable params: 5,895,217\n",
      "Non-trainable params: 0\n",
      "_________________________________________________________________\n",
      "None\n",
      "[2022-04-19 18:12:57] WARNING (absl/MainThread) Found untraced functions such as re_lu_layer_call_fn, re_lu_layer_call_and_return_conditional_losses, re_lu_layer_call_fn, re_lu_layer_call_and_return_conditional_losses, re_lu_layer_call_and_return_conditional_losses while saving (showing 5 of 5). These functions will not be directly callable after loading.\n",
      "INFO:tensorflow:Assets written to: /share/data1/GYM/junior/train/assets\n",
      "[2022-04-19 18:12:58] INFO (tensorflow/MainThread) Assets written to: /share/data1/GYM/junior/train/assets\n"
     ]
    },
    {
     "data": {
      "image/png": "[encoded data removed]",
      "text/plain": [
       "<Figure size 432x288 with 1 Axes>"
      ]
     },
     "metadata": {
      "needs_background": "light"
     },
     "output_type": "display_data"
    }
   ],
   "source": [
    "path_to_files = Path('/share/data1/GYM/junior/train')\n",
    "s_train, a_train, s_validate, a_validate, _, _ = load_dataset(path_to_files, dataset_name=\"junior\")\n",
    "\n",
    "scaler = MinMaxScaler()#StandardScaler()\n",
    "s_tr_t = scaler.fit_transform(s_train)\n",
    "s_val_t = scaler.transform(s_validate)\n",
    "    \n",
    "    \n",
    "# Save the scaler: \n",
    "with open('/home/mlehna/AI2Go/l2rpn_binbinchen_iee/scaler_junior.pkl', \"wb\") as fp:   #Pickling\n",
    "    pickle.dump(scaler, fp)\n",
    "\n",
    "junior = AdvancedJunior(config=best_params,\n",
    "                        trainset_size=len(a_train),\n",
    "                        num_actions=np.max(a_train)+1,\n",
    "                        seed = 42)\n",
    "\n",
    "history = junior.train(log_dir=Path(\"/share/data1/GYM/junior/hyperopt/train\"),\n",
    "                       ckpt_dir=Path(\"/share/data1/GYM/junior/hyperopt/train\"),\n",
    "                       patience=50,\n",
    "                       x_train=s_tr_t, y_train=a_train,\n",
    "                       x_validate=s_val_t, y_validate=a_validate)\n",
    "print(junior.model.summary())\n",
    "plt.plot(history.history[\"accuracy\"])\n",
    "plt.plot(history.history['val_accuracy'])\n",
    "\n",
    "junior.model.save(Path('/share/data1/GYM/junior/train'))\n"
   ]
  },
  {
   "cell_type": "code",
   "execution_count": null,
   "id": "1a15a59d-aaac-45b3-9fb0-061896dbd938",
   "metadata": {},
   "outputs": [],
   "source": []
  }
 ],
 "metadata": {
  "kernelspec": {
   "display_name": "ai2go",
   "language": "python",
   "name": "ai2go"
  },
  "language_info": {
   "codemirror_mode": {
    "name": "ipython",
    "version": 3
   },
   "file_extension": ".py",
   "mimetype": "text/x-python",
   "name": "python",
   "nbconvert_exporter": "python",
   "pygments_lexer": "ipython3",
   "version": "3.9.0"
  }
 },
 "nbformat": 4,
 "nbformat_minor": 5
}